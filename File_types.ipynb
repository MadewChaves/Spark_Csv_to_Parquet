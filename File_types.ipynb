{
  "nbformat": 4,
  "nbformat_minor": 0,
  "metadata": {
    "colab": {
      "provenance": [],
      "mount_file_id": "1oMkpkw6LztTxzyStf0UxDoBtPXydPB5e",
      "authorship_tag": "ABX9TyNzPgxQDPcz0dll7+jUB0aG",
      "include_colab_link": true
    },
    "kernelspec": {
      "name": "python3",
      "display_name": "Python 3"
    },
    "language_info": {
      "name": "python"
    }
  },
  "cells": [
    {
      "cell_type": "markdown",
      "metadata": {
        "id": "view-in-github",
        "colab_type": "text"
      },
      "source": [
        "<a href=\"https://colab.research.google.com/github/MadewChaves/Spark_Csv_to_Parquet/blob/main/File_types.ipynb\" target=\"_parent\"><img src=\"https://colab.research.google.com/assets/colab-badge.svg\" alt=\"Open In Colab\"/></a>"
      ]
    },
    {
      "cell_type": "markdown",
      "source": [
        "DATA TYPES / FILES - ESTUDOS"
      ],
      "metadata": {
        "id": "xt9g29SESFpS"
      }
    },
    {
      "cell_type": "code",
      "source": [
        "# Instalação pyspark\n",
        "! pip install pyspark"
      ],
      "metadata": {
        "id": "MaZ90YtmiMBz"
      },
      "execution_count": null,
      "outputs": []
    },
    {
      "cell_type": "code",
      "source": [
        "# Importação de bibliotecas\n",
        "from google.colab import drive\n",
        "import os\n",
        "from pyspark.sql import SparkSession\n",
        "import pyspark.sql.functions as F"
      ],
      "metadata": {
        "id": "3LG1LLqiSfeY"
      },
      "execution_count": 11,
      "outputs": []
    },
    {
      "cell_type": "code",
      "source": [
        "# Montando driver\n",
        "drive.mount('/content/drive')"
      ],
      "metadata": {
        "id": "8YPMyfvgii6_"
      },
      "execution_count": null,
      "outputs": []
    },
    {
      "cell_type": "code",
      "source": [
        "# Diretório apontando para local do arquivo\n",
        "dir = '/content/drive/MyDrive/Colab Notebooks/Dados_gov'"
      ],
      "metadata": {
        "id": "DpInfvXzkY-Z"
      },
      "execution_count": null,
      "outputs": []
    },
    {
      "cell_type": "code",
      "source": [
        "# Criando a sessão spark\n",
        "spark = SparkSession.builder.appName('Estudo_data_files').getOrCreate()"
      ],
      "metadata": {
        "id": "QH3DKLYPk67t"
      },
      "execution_count": 14,
      "outputs": []
    },
    {
      "cell_type": "code",
      "source": [
        "# Criando o dataframe\n",
        "file_name = '2024_Passagem'\n",
        "df_passagem = spark.read.csv(f'{dir}/{file_name}.csv', header=True,sep=\";\", encoding='ISO-8859-1', inferSchema=True)"
      ],
      "metadata": {
        "id": "I7GdLZxhlM-o"
      },
      "execution_count": null,
      "outputs": []
    },
    {
      "cell_type": "code",
      "source": [
        "# Tratamento para a padronização do nome de colunas do data frame\n",
        "df_passagem_tratado = df_passagem.select([F.col(x).alias(x.replace('-','').replace(' ','_').lower()) for x in df_passagem.columns])"
      ],
      "metadata": {
        "id": "2Da0bpRilghJ"
      },
      "execution_count": null,
      "outputs": []
    },
    {
      "cell_type": "code",
      "source": [
        "# Tratamento das colunas valor_da_passagem e taxa_de_serviço que estavam com o tipo String e o separador ,\n",
        "df_passagem_tratado = df_passagem_tratado.withColumn('valor_da_passagem',F.expr(\"cast(replace(valor_da_passagem,',','.') as float)\")) \\\n",
        "                                          .withColumn('taxa_de_serviço',F.expr(\"cast(replace(valor_da_passagem,',','.') as float)\"))"
      ],
      "metadata": {
        "id": "LiJZjnPZo1_3"
      },
      "execution_count": null,
      "outputs": []
    },
    {
      "cell_type": "code",
      "source": [
        "# Gerando um novo arquivo Parquet a partir do base em CSV\n",
        "df_passagem_tratado.write.mode('overwrite').parquet(f'{dir}/{file_name}.parquet')"
      ],
      "metadata": {
        "id": "SDMoRNgBtFKJ"
      },
      "execution_count": null,
      "outputs": []
    },
    {
      "cell_type": "code",
      "source": [
        "# Coleta de tamanho dos dois arquivos, em CSV e PARQUET, por fim, a apresentação de ambos os tamanhos e a diferença em percentual entre eles\n",
        "tamanho_csv = float(os.path.getsize(f\"{dir}/{file_name}.csv\"))\n",
        "tamanho_parquet = float(os.path.getsize(f\"{dir}/{file_name}.parquet\"))\n",
        "diferenca_percentual = round((tamanho_csv - tamanho_parquet) / tamanho_csv * 100, 2)\n",
        "\n",
        "print(\"Tamanho do arquivo em CSV:\",(os.path.getsize(f\"{dir}/{file_name}.csv\")),\"bytes\",\"\\n\\n\",\"Tamanho do arquivo em PARQUET:\",(os.path.getsize(f\"{dir}/{file_name}.parquet\")),\"bytes\",\"\\n\\n\",f\"Diferença entre os tamanhos em percentual: {diferenca_percentual} %\")"
      ],
      "metadata": {
        "colab": {
          "base_uri": "https://localhost:8080/"
        },
        "id": "0dI_LJjXuOc_",
        "outputId": "3f90b0b4-3186-40a5-e7c1-e6dbf500fbf2"
      },
      "execution_count": 84,
      "outputs": [
        {
          "output_type": "stream",
          "name": "stdout",
          "text": [
            "Tamanho do arquivo em CSV: 37915234 bytes \n",
            "\n",
            " Tamanho do arquivo em PARQUET: 4096 bytes \n",
            "\n",
            " Diferença entre os tamanhos em percentual: 99.99 %\n"
          ]
        }
      ]
    }
  ]
}